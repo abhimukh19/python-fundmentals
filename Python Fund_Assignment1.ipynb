{
 "cells": [
  {
   "cell_type": "code",
   "execution_count": 1,
   "id": "0d87f42c-98bd-40d7-ad99-9b3c3ef59b20",
   "metadata": {},
   "outputs": [],
   "source": [
    "#Q1 How can we store a single quote (‘) as a str1ng 1n a var1able?"
   ]
  },
  {
   "cell_type": "code",
   "execution_count": 3,
   "id": "fee80ee9-ee41-4e8d-8743-d946a1eae2f3",
   "metadata": {},
   "outputs": [
    {
     "data": {
      "text/plain": [
       "\"Here's an example of a string with a single quote.\""
      ]
     },
     "execution_count": 3,
     "metadata": {},
     "output_type": "execute_result"
    }
   ],
   "source": [
    "my_string = \"Here's an example of a string with a single quote.\"\n",
    "my_string"
   ]
  },
  {
   "cell_type": "code",
   "execution_count": 4,
   "id": "84e517c6-2742-4230-8acb-ed29278af531",
   "metadata": {},
   "outputs": [],
   "source": [
    "#Q2 Refer the below variable:\n",
    "#x = 'a'\n",
    "#Here, is x a character type or string type var1able? Support your answer w1th an explanation."
   ]
  },
  {
   "cell_type": "code",
   "execution_count": 5,
   "id": "e2d8a047-5184-4014-a1d5-8bd20568c770",
   "metadata": {},
   "outputs": [
    {
     "data": {
      "text/plain": [
       "str"
      ]
     },
     "execution_count": 5,
     "metadata": {},
     "output_type": "execute_result"
    }
   ],
   "source": [
    "x='a'\n",
    "type(x)"
   ]
  },
  {
   "cell_type": "markdown",
   "id": "d68b3244-8c0f-4206-90bc-82d0becbdfbc",
   "metadata": {},
   "source": [
    "X is a string type variable as mentioned above"
   ]
  },
  {
   "cell_type": "code",
   "execution_count": 6,
   "id": "25444658-b6e8-4cef-a41a-e19fe8879455",
   "metadata": {},
   "outputs": [],
   "source": [
    "#Q3 Apply the follow1ng funct1ons on th1s var1able: ‘Welcome to Python foun at1on course'\n",
    "#Note: You can use your cho1ce of parameters But make sure 1t 1s correct."
   ]
  },
  {
   "cell_type": "code",
   "execution_count": 8,
   "id": "5c6607b9-dbc7-454e-a8d0-df7f6d2d22b0",
   "metadata": {},
   "outputs": [
    {
     "data": {
      "text/plain": [
       "'Welcome to Python foundation course'"
      ]
     },
     "execution_count": 8,
     "metadata": {},
     "output_type": "execute_result"
    }
   ],
   "source": [
    "str_var= 'Welcome to Python foundation course'\n",
    "str_var"
   ]
  },
  {
   "cell_type": "code",
   "execution_count": 10,
   "id": "09238301-6e6f-4c27-94b6-c425c908677c",
   "metadata": {},
   "outputs": [
    {
     "name": "stdout",
     "output_type": "stream",
     "text": [
      "The length of variable is 35\n"
     ]
    }
   ],
   "source": [
    "print(f'The length of variable is {len(str_var)}')"
   ]
  },
  {
   "cell_type": "code",
   "execution_count": 16,
   "id": "2154c285-5733-4cfd-ad16-e85c1bc498d7",
   "metadata": {},
   "outputs": [
    {
     "name": "stdout",
     "output_type": "stream",
     "text": [
      "The number of E in string variable is 3\n"
     ]
    }
   ],
   "source": [
    "print(f'The number of E in string variable is {str_var.count(\"e\")}')"
   ]
  },
  {
   "cell_type": "code",
   "execution_count": 18,
   "id": "eba15ff3-10ac-4ab2-b332-52fa0bfcca99",
   "metadata": {},
   "outputs": [
    {
     "name": "stdout",
     "output_type": "stream",
     "text": [
      "The Position of T in the string variable is 8\n"
     ]
    }
   ],
   "source": [
    "print(f'The Position of T in the string variable is {(str_var.find(\"t\"))}')"
   ]
  },
  {
   "cell_type": "code",
   "execution_count": 22,
   "id": "4c2e1d13-f806-497f-ac47-b30f9b1a71e4",
   "metadata": {},
   "outputs": [
    {
     "name": "stdout",
     "output_type": "stream",
     "text": [
      "The concatanated string is:  Welcome to Python foundation course. This is your first assignment\n"
     ]
    }
   ],
   "source": [
    "print(f'The concatanated string is:  {(str_var+\". This is your first assignment\")}')"
   ]
  },
  {
   "cell_type": "code",
   "execution_count": 23,
   "id": "4d77690d-a770-47f8-a327-8e78bb42cbd1",
   "metadata": {},
   "outputs": [],
   "source": [
    "#Q4 For the var1able: word = Panaji@12256"
   ]
  },
  {
   "cell_type": "code",
   "execution_count": 32,
   "id": "0ebe94f3-946b-4684-8209-909ddd845d0c",
   "metadata": {},
   "outputs": [
    {
     "name": "stdout",
     "output_type": "stream",
     "text": [
      "The total number of alphabets in lowercase is 5\n",
      "The total number of alphabets in Uppercase is 1\n",
      "The total number of numerical values is 5\n"
     ]
    }
   ],
   "source": [
    "str_var_in= 'Panaji@12256'\n",
    "lower_counter=0\n",
    "upper_counter=0\n",
    "num_counter=0\n",
    "for a in str_var_in:\n",
    "    if a.islower():\n",
    "        lower_counter=lower_counter+1\n",
    "    elif a.isupper():\n",
    "        upper_counter=upper_counter+1\n",
    "    elif a.isnumeric():\n",
    "        num_counter=num_counter+1\n",
    "print(f'The total number of alphabets in lowercase is {lower_counter}')\n",
    "print(f'The total number of alphabets in Uppercase is {upper_counter}')\n",
    "print(f'The total number of numerical values is {num_counter}')"
   ]
  },
  {
   "cell_type": "code",
   "execution_count": 33,
   "id": "6ac2f61a-3009-46d9-9934-9518042699ce",
   "metadata": {},
   "outputs": [],
   "source": [
    "#Q5 Write a code to store a numerical value inside a variable then convert it 1nto string"
   ]
  },
  {
   "cell_type": "code",
   "execution_count": 35,
   "id": "e75ed628-67a6-4818-8483-95d3e9e22e4e",
   "metadata": {},
   "outputs": [
    {
     "name": "stdin",
     "output_type": "stream",
     "text": [
      "Enter the input value: 123456\n"
     ]
    },
    {
     "name": "stdout",
     "output_type": "stream",
     "text": [
      "The final out in string format is 123456\n",
      "<class 'str'>\n"
     ]
    }
   ],
   "source": [
    "num_var=int(input('Enter the input value:'))\n",
    "num_var=str(num_var)\n",
    "print(f'The final output in string format is {num_var}')\n",
    "print(type(num_var))"
   ]
  },
  {
   "cell_type": "code",
   "execution_count": null,
   "id": "185b92e1-32d7-4d3e-8fad-8c291ebacbdd",
   "metadata": {},
   "outputs": [],
   "source": []
  }
 ],
 "metadata": {
  "kernelspec": {
   "display_name": "Python 3 (ipykernel)",
   "language": "python",
   "name": "python3"
  },
  "language_info": {
   "codemirror_mode": {
    "name": "ipython",
    "version": 3
   },
   "file_extension": ".py",
   "mimetype": "text/x-python",
   "name": "python",
   "nbconvert_exporter": "python",
   "pygments_lexer": "ipython3",
   "version": "3.10.8"
  }
 },
 "nbformat": 4,
 "nbformat_minor": 5
}
