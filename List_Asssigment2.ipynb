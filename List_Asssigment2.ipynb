{
 "cells": [
  {
   "cell_type": "markdown",
   "id": "043dcb11-30b7-43ab-9694-b8edd967547a",
   "metadata": {},
   "source": [
    "Q1. What is the syntax for adding an element to a list in Python?\n",
    "\n",
    "Q2. What is the difference between remove() and pop() functions in Python?\n",
    "\n",
    "Q3. Write a Python code to sort a list in descending order.\n",
    "\n",
    "Q4. Write a Python code to count the number of occurrences of an element in a list.\n",
    "\n",
    "Q5. Write a Python code to reverse a list."
   ]
  },
  {
   "cell_type": "code",
   "execution_count": 1,
   "id": "9618698c-78ae-47d7-9df2-48074c27c6ca",
   "metadata": {},
   "outputs": [
    {
     "data": {
      "text/plain": [
       "[1, 2, 3, 4, 5, 6]"
      ]
     },
     "execution_count": 1,
     "metadata": {},
     "output_type": "execute_result"
    }
   ],
   "source": [
    "myfirst_list=[] #empty list created\n",
    "myfirst_list=[1,2,3,4,5,6]#added elements to the list\n",
    "myfirst_list"
   ]
  },
  {
   "cell_type": "code",
   "execution_count": 2,
   "id": "a569a9bf-077f-4bee-9fcf-93c601c603e6",
   "metadata": {},
   "outputs": [],
   "source": [
    "myfirst_list.append(8)#Adding an element to the list"
   ]
  },
  {
   "cell_type": "code",
   "execution_count": 3,
   "id": "4357ad39-664f-4cf0-9170-e0f9b90fa69a",
   "metadata": {},
   "outputs": [
    {
     "data": {
      "text/plain": [
       "[1, 2, 3, 4, 5, 6, 8]"
      ]
     },
     "execution_count": 3,
     "metadata": {},
     "output_type": "execute_result"
    }
   ],
   "source": [
    "myfirst_list"
   ]
  },
  {
   "cell_type": "code",
   "execution_count": 4,
   "id": "e531d806-b9dc-4935-82c6-283cefc9d776",
   "metadata": {},
   "outputs": [
    {
     "data": {
      "text/plain": [
       "[1, 2, 3, 4, 5, 6]"
      ]
     },
     "execution_count": 4,
     "metadata": {},
     "output_type": "execute_result"
    }
   ],
   "source": [
    "myfirst_list.pop() #)#Popping an element from the list\n",
    "myfirst_list"
   ]
  },
  {
   "cell_type": "code",
   "execution_count": 6,
   "id": "e21e4747-8e08-480e-9903-ee3e38e9a9b1",
   "metadata": {},
   "outputs": [
    {
     "data": {
      "text/plain": [
       "[1, 2, 4, 5, 6]"
      ]
     },
     "execution_count": 6,
     "metadata": {},
     "output_type": "execute_result"
    }
   ],
   "source": [
    "myfirst_list.remove(3) #)#removing a specific an element from the list\n",
    "myfirst_list"
   ]
  },
  {
   "cell_type": "markdown",
   "id": "fff420c3-87f3-47c7-a4e4-9c8654bbc90b",
   "metadata": {},
   "source": [
    "With remove you can remove a specific element in the list while pop removes in LIFO"
   ]
  },
  {
   "cell_type": "code",
   "execution_count": 8,
   "id": "918059ca-e78e-4535-ac11-8a8142ed60ae",
   "metadata": {},
   "outputs": [
    {
     "data": {
      "text/plain": [
       "[6, 5, 4, 2, 1]"
      ]
     },
     "execution_count": 8,
     "metadata": {},
     "output_type": "execute_result"
    }
   ],
   "source": [
    "myfirst_list.sort(reverse=True) #)#reversing a list\n",
    "myfirst_list"
   ]
  },
  {
   "cell_type": "code",
   "execution_count": 9,
   "id": "e5d91afb-ae20-4f2d-b211-18d07975328e",
   "metadata": {},
   "outputs": [
    {
     "data": {
      "text/plain": [
       "[6, 5, 4, 2, 1, 3]"
      ]
     },
     "execution_count": 9,
     "metadata": {},
     "output_type": "execute_result"
    }
   ],
   "source": [
    "myfirst_list.append(3) #)#adding 3 to a list\n",
    "myfirst_list"
   ]
  },
  {
   "cell_type": "code",
   "execution_count": 10,
   "id": "d0c6584b-6da2-4590-a762-6a126a53353d",
   "metadata": {},
   "outputs": [
    {
     "data": {
      "text/plain": [
       "[6, 5, 4, 3, 2, 1]"
      ]
     },
     "execution_count": 10,
     "metadata": {},
     "output_type": "execute_result"
    }
   ],
   "source": [
    "myfirst_list.sort(reverse=True) #sorting in descending order a list\n",
    "myfirst_list"
   ]
  },
  {
   "cell_type": "code",
   "execution_count": 11,
   "id": "88d821d2-a6ce-49bc-9af2-e8bb2cd7c4ea",
   "metadata": {},
   "outputs": [
    {
     "data": {
      "text/plain": [
       "1"
      ]
     },
     "execution_count": 11,
     "metadata": {},
     "output_type": "execute_result"
    }
   ],
   "source": [
    "myfirst_list.count(3)#counting an element in a list"
   ]
  },
  {
   "cell_type": "code",
   "execution_count": null,
   "id": "eb864bc0-8310-4964-901b-b4c051d99ce4",
   "metadata": {},
   "outputs": [],
   "source": []
  }
 ],
 "metadata": {
  "kernelspec": {
   "display_name": "Python 3 (ipykernel)",
   "language": "python",
   "name": "python3"
  },
  "language_info": {
   "codemirror_mode": {
    "name": "ipython",
    "version": 3
   },
   "file_extension": ".py",
   "mimetype": "text/x-python",
   "name": "python",
   "nbconvert_exporter": "python",
   "pygments_lexer": "ipython3",
   "version": "3.10.8"
  }
 },
 "nbformat": 4,
 "nbformat_minor": 5
}
