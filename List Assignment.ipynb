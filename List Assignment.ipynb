{
 "cells": [
  {
   "cell_type": "markdown",
   "id": "74d8f1b6-1682-4288-b322-7fa7a31252f3",
   "metadata": {},
   "source": [
    "Q1. Create an empty list.\n",
    "\n",
    "\n",
    "Q2. Create a list and add an element to the end of this list.\n",
    "\n",
    "Q3. For the above created list print the last element.\n",
    "\n",
    "Q4. Reverse the above created list.\n",
    "\n",
    "Q5. Sort the above created list.\n",
    "\n",
    "Q6. Create a list of your top three favorite movies, then print the second movie title.\n",
    "\n",
    "Q7. Create a list of your favorite animals, then add a new animal to the list and print the updated list.\n",
    "\n",
    "Q8. Create a list of your favorite cities, then use the index() method to find the position of a specific city\n",
    "on the list and print it."
   ]
  },
  {
   "cell_type": "code",
   "execution_count": 2,
   "id": "228bcfb8-3454-4638-a687-aba5a561be25",
   "metadata": {},
   "outputs": [
    {
     "data": {
      "text/plain": [
       "[1, 2, 3, 4, 5, 6]"
      ]
     },
     "execution_count": 2,
     "metadata": {},
     "output_type": "execute_result"
    }
   ],
   "source": [
    "myfirst_list=[] #empty list created\n",
    "myfirst_list=[1,2,3,4,5,6]#added elements to the list\n",
    "myfirst_list"
   ]
  },
  {
   "cell_type": "code",
   "execution_count": 3,
   "id": "c7c179f7-ab44-4b40-8f93-94e7b6e946b6",
   "metadata": {},
   "outputs": [
    {
     "data": {
      "text/plain": [
       "[1, 2, 3, 4, 5, 6, 7]"
      ]
     },
     "execution_count": 3,
     "metadata": {},
     "output_type": "execute_result"
    }
   ],
   "source": [
    "myfirst_list.append(7)#added elements at the end of the list\n",
    "myfirst_list"
   ]
  },
  {
   "cell_type": "code",
   "execution_count": 6,
   "id": "d57fe0c0-8cc8-4f7f-bb3d-012df3a901ae",
   "metadata": {},
   "outputs": [
    {
     "data": {
      "text/plain": [
       "7"
      ]
     },
     "execution_count": 6,
     "metadata": {},
     "output_type": "execute_result"
    }
   ],
   "source": [
    "myfirst_list[len(myfirst_list)-1]#last element of the list printed"
   ]
  },
  {
   "cell_type": "code",
   "execution_count": 9,
   "id": "be731e7e-d907-44af-9f46-86a14b8ad8b8",
   "metadata": {},
   "outputs": [
    {
     "data": {
      "text/plain": [
       "[1, 2, 3, 4, 5, 6, 7, 3]"
      ]
     },
     "execution_count": 9,
     "metadata": {},
     "output_type": "execute_result"
    }
   ],
   "source": [
    "myfirst_list.append(3)#added elements at the end of the list\n",
    "myfirst_list"
   ]
  },
  {
   "cell_type": "code",
   "execution_count": 13,
   "id": "71ea6bac-efc0-41df-aa38-2a1c2e00db97",
   "metadata": {},
   "outputs": [
    {
     "data": {
      "text/plain": [
       "[1, 2, 3, 3, 4, 5, 6, 7]"
      ]
     },
     "execution_count": 13,
     "metadata": {},
     "output_type": "execute_result"
    }
   ],
   "source": [
    "myfirst_list.sort()#sorted in ascending order\n",
    "myfirst_list"
   ]
  },
  {
   "cell_type": "code",
   "execution_count": 14,
   "id": "ac2d610c-5b5b-4baf-8eed-c4d69c01d6d3",
   "metadata": {},
   "outputs": [
    {
     "data": {
      "text/plain": [
       "'Tum Bin'"
      ]
     },
     "execution_count": 14,
     "metadata": {},
     "output_type": "execute_result"
    }
   ],
   "source": [
    "my_movie_list=['Interstellar', 'Tum Bin', 'Jab we Met']\n",
    "my_movie_list[len(my_movie_list)-2]#print second movie title"
   ]
  },
  {
   "cell_type": "code",
   "execution_count": 15,
   "id": "38f3e29a-ff2c-46b3-8fcf-b222c44aba24",
   "metadata": {},
   "outputs": [
    {
     "data": {
      "text/plain": [
       "['Tiger', 'Elephant', 'Giraffe', 'Bear', 'Dog']"
      ]
     },
     "execution_count": 15,
     "metadata": {},
     "output_type": "execute_result"
    }
   ],
   "source": [
    "my_animal_list=['Tiger', 'Elephant', 'Giraffe', 'Bear']\n",
    "my_animal_list.append('Dog')#added elements at the end of the list\n",
    "my_animal_list #printed updated list"
   ]
  },
  {
   "cell_type": "code",
   "execution_count": 16,
   "id": "011e710d-3d6c-46db-8bc2-0cd90148d6cb",
   "metadata": {},
   "outputs": [
    {
     "data": {
      "text/plain": [
       "1"
      ]
     },
     "execution_count": 16,
     "metadata": {},
     "output_type": "execute_result"
    }
   ],
   "source": [
    "my_city_list=['London', 'Reading', 'Manchester', 'Birmingham']\n",
    "my_city_list.index('Reading')#print position of the Reading City"
   ]
  },
  {
   "cell_type": "code",
   "execution_count": null,
   "id": "dd4aa63f-12fd-43e4-a93a-0231a4307c93",
   "metadata": {},
   "outputs": [],
   "source": []
  }
 ],
 "metadata": {
  "kernelspec": {
   "display_name": "Python 3 (ipykernel)",
   "language": "python",
   "name": "python3"
  },
  "language_info": {
   "codemirror_mode": {
    "name": "ipython",
    "version": 3
   },
   "file_extension": ".py",
   "mimetype": "text/x-python",
   "name": "python",
   "nbconvert_exporter": "python",
   "pygments_lexer": "ipython3",
   "version": "3.10.8"
  }
 },
 "nbformat": 4,
 "nbformat_minor": 5
}
